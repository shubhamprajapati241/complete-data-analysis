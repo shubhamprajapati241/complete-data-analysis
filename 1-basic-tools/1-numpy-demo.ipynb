{
 "cells": [
  {
   "cell_type": "markdown",
   "id": "51bc1620-30ee-4843-a7f1-94805edf40dc",
   "metadata": {},
   "source": [
    "# Numpy\n",
    "- Scientific computation\n",
    "- Supports for arrays and matrices "
   ]
  },
  {
   "cell_type": "code",
   "execution_count": 4,
   "id": "23e5def9-6e0f-46c0-a51a-2ec2d51a60f7",
   "metadata": {},
   "outputs": [
    {
     "name": "stdout",
     "output_type": "stream",
     "text": [
      "Collecting numpy\n",
      "  Downloading numpy-2.1.0-cp310-cp310-macosx_14_0_arm64.whl.metadata (60 kB)\n",
      "Downloading numpy-2.1.0-cp310-cp310-macosx_14_0_arm64.whl (5.4 MB)\n",
      "\u001b[2K   \u001b[90m━━━━━━━━━━━━━━━━━━━━━━━━━━━━━━━━━━━━━━━━\u001b[0m \u001b[32m5.4/5.4 MB\u001b[0m \u001b[31m7.2 MB/s\u001b[0m eta \u001b[36m0:00:00\u001b[0ma \u001b[36m0:00:01\u001b[0m\n",
      "\u001b[?25hInstalling collected packages: numpy\n",
      "Successfully installed numpy-2.1.0\n"
     ]
    }
   ],
   "source": [
    "!pip install numpy"
   ]
  },
  {
   "cell_type": "code",
   "execution_count": 5,
   "id": "78cd1b41-6122-47dd-bd29-8dbbb1e5c89c",
   "metadata": {},
   "outputs": [],
   "source": [
    "import numpy as np"
   ]
  },
  {
   "cell_type": "code",
   "execution_count": 6,
   "id": "48af38dd-5636-4018-b720-550c7291af71",
   "metadata": {},
   "outputs": [
    {
     "name": "stdout",
     "output_type": "stream",
     "text": [
      "[1 2 3 4]\n",
      "<class 'numpy.ndarray'>\n",
      "(4,)\n"
     ]
    }
   ],
   "source": [
    "# create array using numpy\n",
    "arr1 = np.array([1,2,3,4])\n",
    "print(arr1)\n",
    "print(type(arr1))\n",
    "print(arr1.shape)"
   ]
  },
  {
   "cell_type": "code",
   "execution_count": 7,
   "id": "2e13a0a4-3326-4605-acb3-dd5adcd78e37",
   "metadata": {},
   "outputs": [
    {
     "data": {
      "text/plain": [
       "(4,)"
      ]
     },
     "execution_count": 7,
     "metadata": {},
     "output_type": "execute_result"
    }
   ],
   "source": [
    "# reshaping to 2-D array\n",
    "arr1.reshape(1,4) ## 1 row 4 columns\n",
    "arr1\n",
    "arr1.shape"
   ]
  },
  {
   "cell_type": "code",
   "execution_count": 8,
   "id": "c4f1651f-007d-4960-b24f-023be832eddd",
   "metadata": {},
   "outputs": [
    {
     "name": "stdout",
     "output_type": "stream",
     "text": [
      "[[1 2 3 4 5]\n",
      " [2 3 4 5 6]]\n",
      "shape :  (2, 5)\n"
     ]
    }
   ],
   "source": [
    "arr2 = np.array([[1,2,3,4,5], [2,3,4,5,6]])\n",
    "print(arr2)\n",
    "print(\"shape : \",arr2.shape)"
   ]
  },
  {
   "cell_type": "code",
   "execution_count": 9,
   "id": "ae45a62b-8abf-43f3-8bfe-e72287afd838",
   "metadata": {},
   "outputs": [
    {
     "data": {
      "text/plain": [
       "array([[0],\n",
       "       [2],\n",
       "       [4],\n",
       "       [6],\n",
       "       [8]])"
      ]
     },
     "execution_count": 9,
     "metadata": {},
     "output_type": "execute_result"
    }
   ],
   "source": [
    "np.arange(0,10,2).reshape(5,1)"
   ]
  },
  {
   "cell_type": "code",
   "execution_count": 14,
   "id": "637e1345-ff0a-4170-8666-576ea62e99cb",
   "metadata": {},
   "outputs": [
    {
     "name": "stdout",
     "output_type": "stream",
     "text": [
      "array :  [[1 2 3]\n",
      " [4 5 6]]\n",
      "Shape :  (2, 3)\n",
      "number of dimension :  2\n",
      "size (number of elements) :  6\n",
      "data type :  int64\n",
      "item size (in bytes) :  8\n"
     ]
    }
   ],
   "source": [
    "arr = np.array([[1,2,3], [4,5,6]])\n",
    "arr\n",
    "\n",
    "print(\"array : \",arr)\n",
    "print(\"Shape : \", arr.shape)\n",
    "print(\"number of dimension : \", arr.ndim)\n",
    "print(\"size (number of elements) : \", arr.size)\n",
    "print(\"data type : \", arr.dtype)\n",
    "print(\"item size (in bytes) : \", arr.itemsize)"
   ]
  },
  {
   "cell_type": "code",
   "execution_count": 18,
   "id": "c3c79df5",
   "metadata": {},
   "outputs": [
    {
     "name": "stdout",
     "output_type": "stream",
     "text": [
      "addition :  [11 22 33 44 55 66]\n",
      "subtraction :  [ -9 -18 -27 -36 -45 -54]\n",
      "multiplication :  [ 10  40  90 160 250 360]\n",
      "division :  [0.1 0.1 0.1 0.1 0.1 0.1]\n"
     ]
    }
   ],
   "source": [
    "# numpy vectorized operations \n",
    "arr1 = np.array([1,2,3,4,5,6])\n",
    "arr2 = np.array([10,20,30,40,50,60])\n",
    "\n",
    "# element wise operations  \n",
    "print(\"addition : \", arr1+arr2)\n",
    "print(\"subtraction : \",arr1-arr2)\n",
    "print(\"multiplication : \",arr1*arr2)\n",
    "print(\"division : \",arr1 / arr2)"
   ]
  },
  {
   "cell_type": "code",
   "execution_count": 24,
   "id": "ee401d4d",
   "metadata": {},
   "outputs": [
    {
     "name": "stdout",
     "output_type": "stream",
     "text": [
      "square root :  [1.41421356 1.73205081 2.         2.23606798 2.44948974 2.64575131]\n",
      "exponential :  [   7.3890561    20.08553692   54.59815003  148.4131591   403.42879349\n",
      " 1096.63315843]\n",
      "sin :  [ 0.90929743  0.14112001 -0.7568025  -0.95892427 -0.2794155   0.6569866 ]\n",
      "log :  [0.69314718 1.09861229 1.38629436 1.60943791 1.79175947 1.94591015]\n"
     ]
    }
   ],
   "source": [
    "## Universal functions \n",
    "arr = np.array([2,3,4,5,6,7])\n",
    "\n",
    "print(\"square root : \",np.sqrt(arr)) # square root\n",
    "print(\"exponential : \", np.exp(arr)) # exponential \n",
    "print(\"sin : \", np.sin(arr)) # sine\n",
    "print(\"log : \", np.log(arr)) # natural log"
   ]
  },
  {
   "cell_type": "code",
   "execution_count": null,
   "id": "2a1e2cd3",
   "metadata": {},
   "outputs": [
    {
     "name": "stdout",
     "output_type": "stream",
     "text": [
      "array :  [[ 1  2  3  4  5]\n",
      " [ 6  7  8  9 10]\n",
      " [11 12 13 14 15]]\n",
      "first element :  1\n",
      "first row :  [1 2 3 4 5]\n",
      "after first all rows  :  [[ 6  7  8  9 10]\n",
      " [11 12 13 14 15]]\n",
      "[[ 3  4  5]\n",
      " [ 8  9 10]]\n",
      "[11 12 13]\n"
     ]
    }
   ],
   "source": [
    "## array slicing and indexing \n",
    "arr = np.array([[1,2,3,4,5],[6,7,8,9,10],[11,12,13,14,15]])\n",
    "print(\"array : \", arr)\n",
    "\n",
    "print(\"first element : \",arr[0][0])\n",
    "print(\"first row : \",arr[0]) \n",
    "print(\"after first all rows  : \", arr[1:])\n",
    "\n",
    "print(arr[0:2,2:])\n",
    "print(arr[2][0:3])"
   ]
  },
  {
   "cell_type": "code",
   "execution_count": 41,
   "id": "59931d51",
   "metadata": {},
   "outputs": [
    {
     "name": "stdout",
     "output_type": "stream",
     "text": [
      "[[100   2   3   4   5]\n",
      " [  6   7   8   9  10]\n",
      " [ 11  12  13  14  15]]\n"
     ]
    }
   ],
   "source": [
    "# modify array elements \n",
    "arr[0][0] = 100\n",
    "print(arr)"
   ]
  },
  {
   "cell_type": "code",
   "execution_count": 42,
   "id": "fd011c9d",
   "metadata": {},
   "outputs": [
    {
     "name": "stdout",
     "output_type": "stream",
     "text": [
      "mean :  5.0\n",
      "median :  5.0\n",
      "standard deviation :  2.581988897471611\n",
      "variance :  6.666666666666667\n"
     ]
    }
   ],
   "source": [
    "## Statistical operations \n",
    "data = np.array([1,2,3,4,5,6,7,8,9])\n",
    "\n",
    "print(\"mean : \", np.mean(data))\n",
    "print(\"median : \", np.median(data))\n",
    "print(\"standard deviation : \", np.std(data))\n",
    "print(\"variance : \", np.var(data))"
   ]
  },
  {
   "cell_type": "code",
   "execution_count": null,
   "id": "e962a97f",
   "metadata": {},
   "outputs": [
    {
     "name": "stdout",
     "output_type": "stream",
     "text": [
      "normalized_data :  [-1.46385011 -0.87831007 -0.29277002  0.29277002  0.87831007  1.46385011]\n"
     ]
    }
   ],
   "source": [
    "## Data normalizations \n",
    "# - Converting a data in a way such that mean is 0 and standard deviation is 1\n",
    "\n",
    "data = np.array([1,2,3,4,5,6])\n",
    "\n",
    "# calcuate the means and standard deviation \n",
    "mean = np.mean(data)\n",
    "std_dev = np.std(data)\n",
    "\n",
    "# normalize the data \n",
    "normalize_data = (data - mean) / std_dev\n",
    "print(\"normalized_data : \", normalize_data)"
   ]
  },
  {
   "cell_type": "code",
   "execution_count": 46,
   "id": "826b678d",
   "metadata": {},
   "outputs": [
    {
     "data": {
      "text/plain": [
       "array([6, 7, 8])"
      ]
     },
     "execution_count": 46,
     "metadata": {},
     "output_type": "execute_result"
    }
   ],
   "source": [
    "## logical operations \n",
    "data = np.array([1,2,3,4,5,6,7,8,9,10])\n",
    "data[data > 5]\n",
    "\n",
    "data[(data > 5) & (data <=8)]"
   ]
  }
 ],
 "metadata": {
  "kernelspec": {
   "display_name": "Python 3 (ipykernel)",
   "language": "python",
   "name": "python3"
  },
  "language_info": {
   "codemirror_mode": {
    "name": "ipython",
    "version": 3
   },
   "file_extension": ".py",
   "mimetype": "text/x-python",
   "name": "python",
   "nbconvert_exporter": "python",
   "pygments_lexer": "ipython3",
   "version": "3.10.14"
  }
 },
 "nbformat": 4,
 "nbformat_minor": 5
}
