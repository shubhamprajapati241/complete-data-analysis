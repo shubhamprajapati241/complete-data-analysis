{
 "cells": [
  {
   "cell_type": "markdown",
   "metadata": {},
   "source": [
    "## Pandas- DataFrame and Series\n",
    "- Tool for Data Manipulation\n",
    "- Used for data analysis and cleaning. \n",
    "\n",
    "- Data structure -> Series and dataframe\n",
    "- Series -> 1-Dimensional array. \n",
    "- DataFrame -> Two dimentation, size-mutable with row and columns"
   ]
  },
  {
   "cell_type": "code",
   "execution_count": 1,
   "metadata": {},
   "outputs": [],
   "source": [
    "import pandas as pd"
   ]
  },
  {
   "cell_type": "code",
   "execution_count": 4,
   "metadata": {},
   "outputs": [
    {
     "name": "stdout",
     "output_type": "stream",
     "text": [
      "series : \n",
      " 0    1\n",
      "1    2\n",
      "2    3\n",
      "3    4\n",
      "4    5\n",
      "5    6\n",
      "dtype: int64\n",
      "type:  <class 'pandas.core.series.Series'>\n"
     ]
    }
   ],
   "source": [
    "# series -> one-dimensional array like object. \n",
    "data = [1,2,3,4,5,6]\n",
    "series = pd.Series(data)\n",
    "print(\"series : \\n\", series)\n",
    "print(\"type: \",type(series))"
   ]
  },
  {
   "cell_type": "code",
   "execution_count": 6,
   "metadata": {},
   "outputs": [
    {
     "name": "stdout",
     "output_type": "stream",
     "text": [
      "series : \n",
      " a    1\n",
      "b    2\n",
      "c    3\n",
      "dtype: int64\n"
     ]
    }
   ],
   "source": [
    "# series with dictionaries \n",
    "dic = {'a' : 1, 'b' : 2, 'c' : 3}\n",
    "dic_ser = pd.Series(dic)\n",
    "print(\"series : \\n\", dic_ser)"
   ]
  },
  {
   "cell_type": "code",
   "execution_count": 9,
   "metadata": {},
   "outputs": [
    {
     "data": {
      "text/plain": [
       "m    1\n",
       "n    2\n",
       "o    3\n",
       "dtype: int64"
      ]
     },
     "execution_count": 9,
     "metadata": {},
     "output_type": "execute_result"
    }
   ],
   "source": [
    "# series with custom indexes\n",
    "data  = [1,2,3]\n",
    "index  = [\"m\",\"n\",\"o\"]\n",
    "\n",
    "pd.Series(data, index = index)"
   ]
  },
  {
   "cell_type": "code",
   "execution_count": 13,
   "metadata": {},
   "outputs": [
    {
     "name": "stdout",
     "output_type": "stream",
     "text": [
      "      name  age    city\n",
      "0    shubh   20  mumbai\n",
      "1     aman   30      up\n",
      "2  niteesh   40      ap\n",
      "<class 'pandas.core.frame.DataFrame'>\n",
      "      name  age       city\n",
      "0    shubh   24     mumbai\n",
      "1  niteesh   20         ap\n",
      "2     aman   24         up\n",
      "3   naveen   24  hyderabad\n",
      "<class 'pandas.core.frame.DataFrame'>\n"
     ]
    }
   ],
   "source": [
    "# DataFrame with dictionary\n",
    "data = {\n",
    "    \"name\" : [\"shubh\", \"aman\", \"niteesh\"],\n",
    "    \"age\" : [20, 30, 40],\n",
    "    \"city\" : [\"mumbai\", \"up\", \"ap\"]\n",
    "}\n",
    "\n",
    "df = pd.DataFrame(data)\n",
    "print(df)\n",
    "print(type(df))\n",
    "\n",
    "\n",
    "dataframe = [\n",
    "    {'name' : 'shubh', 'age'  : 24, 'city' : 'mumbai'},\n",
    "    {'name' : 'niteesh', 'age'  : 20, 'city' : 'ap'},\n",
    "    {'name' : 'aman', 'age'  : 24, 'city' : 'up'},\n",
    "    {'name' : 'naveen', 'age'  : 24, 'city' : 'hyderabad'},\n",
    "]\n",
    "df = pd.DataFrame(dataframe)\n",
    "print(df)\n",
    "print(type(df))"
   ]
  },
  {
   "cell_type": "code",
   "execution_count": 20,
   "metadata": {},
   "outputs": [
    {
     "name": "stdout",
     "output_type": "stream",
     "text": [
      "name     shubh\n",
      "age         24\n",
      "city    mumbai\n",
      "Name: 0, dtype: object\n",
      "shubh\n"
     ]
    },
    {
     "name": "stderr",
     "output_type": "stream",
     "text": [
      "/var/folders/tp/vy0rk_tj2fg2rhkts3qkxrq00000gp/T/ipykernel_99714/712779438.py:3: FutureWarning: Series.__getitem__ treating keys as positions is deprecated. In a future version, integer keys will always be treated as labels (consistent with DataFrame behavior). To access a value by position, use `ser.iloc[pos]`\n",
      "  print(df.iloc[0][0]) # column operation\n"
     ]
    }
   ],
   "source": [
    "print(df.loc[0]) # row operation\n",
    "\n",
    "print(df.iloc[0][0]) # column operation"
   ]
  },
  {
   "cell_type": "code",
   "execution_count": 31,
   "metadata": {},
   "outputs": [
    {
     "data": {
      "text/html": [
       "<div>\n",
       "<style scoped>\n",
       "    .dataframe tbody tr th:only-of-type {\n",
       "        vertical-align: middle;\n",
       "    }\n",
       "\n",
       "    .dataframe tbody tr th {\n",
       "        vertical-align: top;\n",
       "    }\n",
       "\n",
       "    .dataframe thead th {\n",
       "        text-align: right;\n",
       "    }\n",
       "</style>\n",
       "<table border=\"1\" class=\"dataframe\">\n",
       "  <thead>\n",
       "    <tr style=\"text-align: right;\">\n",
       "      <th></th>\n",
       "      <th>name</th>\n",
       "      <th>age</th>\n",
       "      <th>city</th>\n",
       "    </tr>\n",
       "  </thead>\n",
       "  <tbody>\n",
       "    <tr>\n",
       "      <th>0</th>\n",
       "      <td>shubh</td>\n",
       "      <td>24</td>\n",
       "      <td>mumbai</td>\n",
       "    </tr>\n",
       "    <tr>\n",
       "      <th>1</th>\n",
       "      <td>niteesh</td>\n",
       "      <td>20</td>\n",
       "      <td>ap</td>\n",
       "    </tr>\n",
       "    <tr>\n",
       "      <th>2</th>\n",
       "      <td>aman</td>\n",
       "      <td>24</td>\n",
       "      <td>up</td>\n",
       "    </tr>\n",
       "    <tr>\n",
       "      <th>3</th>\n",
       "      <td>naveen</td>\n",
       "      <td>24</td>\n",
       "      <td>hyderabad</td>\n",
       "    </tr>\n",
       "  </tbody>\n",
       "</table>\n",
       "</div>"
      ],
      "text/plain": [
       "      name  age       city\n",
       "0    shubh   24     mumbai\n",
       "1  niteesh   20         ap\n",
       "2     aman   24         up\n",
       "3   naveen   24  hyderabad"
      ]
     },
     "execution_count": 31,
     "metadata": {},
     "output_type": "execute_result"
    }
   ],
   "source": [
    "# Data manipulation with dataframe\n",
    "df\n",
    "\n",
    "# 1. adding new column\n",
    "df['Salary'] = [10000, 40000, 80000, 50000]\n",
    "df\n",
    "\n",
    "# remove the column\n",
    "df.drop(\"Salary\", axis=1, inplace = True)\n",
    "df\n",
    "\n",
    "# increasing the age\n",
    "df['age']+2\n",
    "df"
   ]
  }
 ],
 "metadata": {
  "kernelspec": {
   "display_name": "Python 3",
   "language": "python",
   "name": "python3"
  },
  "language_info": {
   "codemirror_mode": {
    "name": "ipython",
    "version": 3
   },
   "file_extension": ".py",
   "mimetype": "text/x-python",
   "name": "python",
   "nbconvert_exporter": "python",
   "pygments_lexer": "ipython3",
   "version": "3.10.14"
  }
 },
 "nbformat": 4,
 "nbformat_minor": 2
}
